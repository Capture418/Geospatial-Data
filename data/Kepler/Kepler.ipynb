{
 "cells": [
  {
   "cell_type": "code",
   "execution_count": 9,
   "metadata": {},
   "outputs": [],
   "source": [
    "from keplergl import KeplerGl\n",
    "import pandas as pd"
   ]
  },
  {
   "cell_type": "code",
   "execution_count": 10,
   "metadata": {},
   "outputs": [
    {
     "name": "stdout",
     "output_type": "stream",
     "text": [
      "User Guide: https://docs.kepler.gl/docs/keplergl-jupyter\n"
     ]
    },
    {
     "data": {
      "application/vnd.jupyter.widget-view+json": {
       "model_id": "8f6c6a605ca64c77baeae8f623aabb91",
       "version_major": 2,
       "version_minor": 0
      },
      "text/plain": [
       "KeplerGl(data={'data': 'https://github.com/keplergl/kepler.gl/blob/master/bindings/kepler.gl-jupyter/notebooks…"
      ]
     },
     "metadata": {},
     "output_type": "display_data"
    }
   ],
   "source": [
    "df_hex = 'https://github.com/keplergl/kepler.gl/blob/master/bindings/kepler.gl-jupyter/notebooks/hex-data.csv'\n",
    "\n",
    "map = KeplerGl(height=400, data ={\"data\": df_hex})\n",
    "map"
   ]
  }
 ],
 "metadata": {
  "interpreter": {
   "hash": "b6210d6e8bebbeaa30bb0302a76cd15a5ab817ea28580c7e9450ff1e2a73f0ad"
  },
  "kernelspec": {
   "display_name": "Python 3.9.13 ('pyGIS')",
   "language": "python",
   "name": "python3"
  },
  "language_info": {
   "codemirror_mode": {
    "name": "ipython",
    "version": 3
   },
   "file_extension": ".py",
   "mimetype": "text/x-python",
   "name": "python",
   "nbconvert_exporter": "python",
   "pygments_lexer": "ipython3",
   "version": "3.9.13"
  },
  "orig_nbformat": 4
 },
 "nbformat": 4,
 "nbformat_minor": 2
}
