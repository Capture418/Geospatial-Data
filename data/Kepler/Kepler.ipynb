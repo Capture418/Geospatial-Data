{
 "cells": [
  {
   "cell_type": "markdown",
   "metadata": {},
   "source": [
    "Imports"
   ]
  },
  {
   "cell_type": "code",
   "execution_count": 1,
   "metadata": {},
   "outputs": [],
   "source": [
    "import keplergl as kp\n",
    "import pandas as pd"
   ]
  },
  {
   "cell_type": "markdown",
   "metadata": {},
   "source": [
    "Kepler: Useful for slick presentation and comprehensive layering\n",
    "\n",
    "        Can be unreliable, error discovered initially with map display"
   ]
  },
  {
   "cell_type": "markdown",
   "metadata": {},
   "source": [
    "### Reads data csv file and adds it to Kepler map"
   ]
  },
  {
   "cell_type": "code",
   "execution_count": 3,
   "metadata": {},
   "outputs": [
    {
     "name": "stdout",
     "output_type": "stream",
     "text": [
      "User Guide: https://docs.kepler.gl/docs/keplergl-jupyter\n"
     ]
    },
    {
     "data": {
      "application/vnd.jupyter.widget-view+json": {
       "model_id": "c8ed21bde2de4e3f95f9802aa45cc2f6",
       "version_major": 2,
       "version_minor": 0
      },
      "text/plain": [
       "KeplerGl(data={'UKcommute': 'workplace_lng,workplace_lat,residence_lng,all_flows,residence_lat\\n-2.992287,53.4…"
      ]
     },
     "metadata": {},
     "output_type": "display_data"
    }
   ],
   "source": [
    "map = kp.KeplerGl(height=400)\n",
    "\n",
    "with open('data.csv') as f:\n",
    "    csvData = f.read()\n",
    "map.add_data(data = csvData, name= 'UKcommute')\n",
    "    \n",
    "map"
   ]
  }
 ],
 "metadata": {
  "interpreter": {
   "hash": "b6210d6e8bebbeaa30bb0302a76cd15a5ab817ea28580c7e9450ff1e2a73f0ad"
  },
  "kernelspec": {
   "display_name": "Python 3.9.13 ('pyGIS')",
   "language": "python",
   "name": "python3"
  },
  "language_info": {
   "codemirror_mode": {
    "name": "ipython",
    "version": 3
   },
   "file_extension": ".py",
   "mimetype": "text/x-python",
   "name": "python",
   "nbconvert_exporter": "python",
   "pygments_lexer": "ipython3",
   "version": "3.9.13"
  },
  "orig_nbformat": 4
 },
 "nbformat": 4,
 "nbformat_minor": 2
}
