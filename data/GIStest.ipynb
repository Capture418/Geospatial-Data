{
 "cells": [
  {
   "cell_type": "code",
   "execution_count": 1,
   "metadata": {},
   "outputs": [],
   "source": [
    "import geopandas as gpd"
   ]
  },
  {
   "cell_type": "code",
   "execution_count": 8,
   "metadata": {},
   "outputs": [],
   "source": [
    "FILENAME = 'NUTS_Level_2_(January_2018)_Boundaries.geojson'"
   ]
  },
  {
   "cell_type": "code",
   "execution_count": 10,
   "metadata": {},
   "outputs": [],
   "source": [
    "gdf = gpd.read_file(FILENAME)"
   ]
  },
  {
   "cell_type": "code",
   "execution_count": 11,
   "metadata": {},
   "outputs": [
    {
     "data": {
      "text/plain": [
       "<AxesSubplot:>"
      ]
     },
     "execution_count": 11,
     "metadata": {},
     "output_type": "execute_result"
    },
    {
     "data": {
      "image/png": "[encoded data removed]",
      "text/plain": [
       "<Figure size 432x288 with 1 Axes>"
      ]
     },
     "metadata": {
      "needs_background": "light"
     },
     "output_type": "display_data"
    }
   ],
   "source": [
    "gdf.plot()"
   ]
  },
  {
   "cell_type": "code",
   "execution_count": 17,
   "metadata": {},
   "outputs": [
    {
     "data": {
      "text/html": [
       "<div>\n",
       "<style scoped>\n",
       "    .dataframe tbody tr th:only-of-type {\n",
       "        vertical-align: middle;\n",
       "    }\n",
       "\n",
       "    .dataframe tbody tr th {\n",
       "        vertical-align: top;\n",
       "    }\n",
       "\n",
       "    .dataframe thead th {\n",
       "        text-align: right;\n",
       "    }\n",
       "</style>\n",
       "<table border=\"1\" class=\"dataframe\">\n",
       "  <thead>\n",
       "    <tr style=\"text-align: right;\">\n",
       "      <th></th>\n",
       "      <th>objectid</th>\n",
       "      <th>nuts218cd</th>\n",
       "      <th>nuts218nm</th>\n",
       "      <th>bng_e</th>\n",
       "      <th>bng_n</th>\n",
       "      <th>long</th>\n",
       "      <th>lat</th>\n",
       "      <th>st_areashape</th>\n",
       "      <th>st_lengthshape</th>\n",
       "      <th>geometry</th>\n",
       "    </tr>\n",
       "  </thead>\n",
       "  <tbody>\n",
       "    <tr>\n",
       "      <th>0</th>\n",
       "      <td>1</td>\n",
       "      <td>UKC1</td>\n",
       "      <td>Tees Valley and Durham</td>\n",
       "      <td>414643</td>\n",
       "      <td>532242</td>\n",
       "      <td>-1.77440</td>\n",
       "      <td>54.685020</td>\n",
       "      <td>3.026310e+09</td>\n",
       "      <td>477697.826246</td>\n",
       "      <td>MULTIPOLYGON (((-1.73416 54.91817, -1.73759 54...</td>\n",
       "    </tr>\n",
       "    <tr>\n",
       "      <th>1</th>\n",
       "      <td>2</td>\n",
       "      <td>UKC2</td>\n",
       "      <td>Northumberland and Tyne and Wear</td>\n",
       "      <td>398898</td>\n",
       "      <td>602530</td>\n",
       "      <td>-2.01892</td>\n",
       "      <td>55.316841</td>\n",
       "      <td>5.566205e+09</td>\n",
       "      <td>731747.772482</td>\n",
       "      <td>MULTIPOLYGON (((-2.02941 55.76884, -2.02524 55...</td>\n",
       "    </tr>\n",
       "    <tr>\n",
       "      <th>2</th>\n",
       "      <td>3</td>\n",
       "      <td>UKD1</td>\n",
       "      <td>Cumbria</td>\n",
       "      <td>341868</td>\n",
       "      <td>527389</td>\n",
       "      <td>-2.90218</td>\n",
       "      <td>54.638260</td>\n",
       "      <td>6.822173e+09</td>\n",
       "      <td>954965.170460</td>\n",
       "      <td>MULTIPOLYGON (((-2.67644 55.17304, -2.67427 55...</td>\n",
       "    </tr>\n",
       "    <tr>\n",
       "      <th>3</th>\n",
       "      <td>4</td>\n",
       "      <td>UKD3</td>\n",
       "      <td>Greater Manchester</td>\n",
       "      <td>377940</td>\n",
       "      <td>401102</td>\n",
       "      <td>-2.33407</td>\n",
       "      <td>53.506149</td>\n",
       "      <td>1.275917e+09</td>\n",
       "      <td>242513.080214</td>\n",
       "      <td>POLYGON ((-2.12688 53.67960, -2.12768 53.68156...</td>\n",
       "    </tr>\n",
       "    <tr>\n",
       "      <th>4</th>\n",
       "      <td>5</td>\n",
       "      <td>UKD4</td>\n",
       "      <td>Lancashire</td>\n",
       "      <td>363669</td>\n",
       "      <td>441026</td>\n",
       "      <td>-2.55392</td>\n",
       "      <td>53.864182</td>\n",
       "      <td>3.076231e+09</td>\n",
       "      <td>747643.375917</td>\n",
       "      <td>MULTIPOLYGON (((-2.45959 54.23957, -2.46488 54...</td>\n",
       "    </tr>\n",
       "  </tbody>\n",
       "</table>\n",
       "</div>"
      ],
      "text/plain": [
       "   objectid nuts218cd                         nuts218nm   bng_e   bng_n  \\\n",
       "0         1      UKC1            Tees Valley and Durham  414643  532242   \n",
       "1         2      UKC2  Northumberland and Tyne and Wear  398898  602530   \n",
       "2         3      UKD1                           Cumbria  341868  527389   \n",
       "3         4      UKD3                Greater Manchester  377940  401102   \n",
       "4         5      UKD4                        Lancashire  363669  441026   \n",
       "\n",
       "      long        lat  st_areashape  st_lengthshape  \\\n",
       "0 -1.77440  54.685020  3.026310e+09   477697.826246   \n",
       "1 -2.01892  55.316841  5.566205e+09   731747.772482   \n",
       "2 -2.90218  54.638260  6.822173e+09   954965.170460   \n",
       "3 -2.33407  53.506149  1.275917e+09   242513.080214   \n",
       "4 -2.55392  53.864182  3.076231e+09   747643.375917   \n",
       "\n",
       "                                            geometry  \n",
       "0  MULTIPOLYGON (((-1.73416 54.91817, -1.73759 54...  \n",
       "1  MULTIPOLYGON (((-2.02941 55.76884, -2.02524 55...  \n",
       "2  MULTIPOLYGON (((-2.67644 55.17304, -2.67427 55...  \n",
       "3  POLYGON ((-2.12688 53.67960, -2.12768 53.68156...  \n",
       "4  MULTIPOLYGON (((-2.45959 54.23957, -2.46488 54...  "
      ]
     },
     "execution_count": 17,
     "metadata": {},
     "output_type": "execute_result"
    }
   ],
   "source": [
    "gdf.head()"
   ]
  },
  {
   "cell_type": "code",
   "execution_count": null,
   "metadata": {},
   "outputs": [],
   "source": []
  },
  {
   "cell_type": "code",
   "execution_count": 14,
   "metadata": {},
   "outputs": [
    {
     "data": {
      "text/plain": [
       "<AxesSubplot:>"
      ]
     },
     "execution_count": 14,
     "metadata": {},
     "output_type": "execute_result"
    },
    {
     "data": {
      "image/png": "[encoded data removed]",
      "text/plain": [
       "<Figure size 432x288 with 1 Axes>"
      ]
     },
     "metadata": {
      "needs_background": "light"
     },
     "output_type": "display_data"
    }
   ],
   "source": [
    "gdf.plot(column = 'objectid') "
   ]
  },
  {
   "cell_type": "code",
   "execution_count": null,
   "metadata": {},
   "outputs": [],
   "source": []
  }
 ],
 "metadata": {
  "interpreter": {
   "hash": "b6210d6e8bebbeaa30bb0302a76cd15a5ab817ea28580c7e9450ff1e2a73f0ad"
  },
  "kernelspec": {
   "display_name": "Python 3.9.13 ('pyGIS')",
   "language": "python",
   "name": "python3"
  },
  "language_info": {
   "codemirror_mode": {
    "name": "ipython",
    "version": 3
   },
   "file_extension": ".py",
   "mimetype": "text/x-python",
   "name": "python",
   "nbconvert_exporter": "python",
   "pygments_lexer": "ipython3",
   "version": "3.9.13"
  },
  "orig_nbformat": 4
 },
 "nbformat": 4,
 "nbformat_minor": 2
}
