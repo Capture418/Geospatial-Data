{
 "cells": [
  {
   "cell_type": "code",
   "execution_count": 87,
   "metadata": {},
   "outputs": [],
   "source": [
    "import pandas as pd\n",
    "import os\n",
    "import geopandas as gpd\n",
    "import re"
   ]
  },
  {
   "cell_type": "code",
   "execution_count": 88,
   "metadata": {},
   "outputs": [],
   "source": [
    "FILENAME1 = 'local_authority_districts.geojson'\n",
    "FILENAME2 = 'all-domestic-certificates'"
   ]
  },
  {
   "cell_type": "code",
   "execution_count": 89,
   "metadata": {},
   "outputs": [
    {
     "data": {
      "text/html": [
       "<div>\n",
       "<style scoped>\n",
       "    .dataframe tbody tr th:only-of-type {\n",
       "        vertical-align: middle;\n",
       "    }\n",
       "\n",
       "    .dataframe tbody tr th {\n",
       "        vertical-align: top;\n",
       "    }\n",
       "\n",
       "    .dataframe thead th {\n",
       "        text-align: right;\n",
       "    }\n",
       "</style>\n",
       "<table border=\"1\" class=\"dataframe\">\n",
       "  <thead>\n",
       "    <tr style=\"text-align: right;\">\n",
       "      <th></th>\n",
       "      <th>shape_area</th>\n",
       "      <th>lad21nm</th>\n",
       "      <th>long</th>\n",
       "      <th>objectid</th>\n",
       "      <th>lat</th>\n",
       "      <th>bng_n</th>\n",
       "      <th>shape_leng</th>\n",
       "      <th>lad21cd</th>\n",
       "      <th>bng_e</th>\n",
       "      <th>geometry</th>\n",
       "    </tr>\n",
       "  </thead>\n",
       "  <tbody>\n",
       "    <tr>\n",
       "      <th>0</th>\n",
       "      <td>9.371703e+07</td>\n",
       "      <td>Hartlepool</td>\n",
       "      <td>-1.27018</td>\n",
       "      <td>1</td>\n",
       "      <td>54.676140</td>\n",
       "      <td>531474</td>\n",
       "      <td>70995.722933</td>\n",
       "      <td>E06000001</td>\n",
       "      <td>447160</td>\n",
       "      <td>MULTIPOLYGON (((-1.22469 54.62610, -1.22491 54...</td>\n",
       "    </tr>\n",
       "    <tr>\n",
       "      <th>1</th>\n",
       "      <td>2.450695e+08</td>\n",
       "      <td>Redcar and Cleveland</td>\n",
       "      <td>-1.00608</td>\n",
       "      <td>3</td>\n",
       "      <td>54.567520</td>\n",
       "      <td>519597</td>\n",
       "      <td>96704.031525</td>\n",
       "      <td>E06000003</td>\n",
       "      <td>464361</td>\n",
       "      <td>MULTIPOLYGON (((-1.20097 54.57762, -1.20029 54...</td>\n",
       "    </tr>\n",
       "    <tr>\n",
       "      <th>2</th>\n",
       "      <td>2.049330e+08</td>\n",
       "      <td>Stockton-on-Tees</td>\n",
       "      <td>-1.30664</td>\n",
       "      <td>4</td>\n",
       "      <td>54.556911</td>\n",
       "      <td>518183</td>\n",
       "      <td>123408.788096</td>\n",
       "      <td>E06000004</td>\n",
       "      <td>444940</td>\n",
       "      <td>MULTIPOLYGON (((-1.27209 54.55336, -1.27211 54...</td>\n",
       "    </tr>\n",
       "    <tr>\n",
       "      <th>3</th>\n",
       "      <td>1.974778e+08</td>\n",
       "      <td>Darlington</td>\n",
       "      <td>-1.56835</td>\n",
       "      <td>5</td>\n",
       "      <td>54.535339</td>\n",
       "      <td>515648</td>\n",
       "      <td>107203.152334</td>\n",
       "      <td>E06000005</td>\n",
       "      <td>428029</td>\n",
       "      <td>POLYGON ((-1.63767 54.61713, -1.63766 54.61669...</td>\n",
       "    </tr>\n",
       "    <tr>\n",
       "      <th>4</th>\n",
       "      <td>1.806280e+08</td>\n",
       "      <td>Warrington</td>\n",
       "      <td>-2.56167</td>\n",
       "      <td>7</td>\n",
       "      <td>53.391628</td>\n",
       "      <td>388456</td>\n",
       "      <td>114690.686846</td>\n",
       "      <td>E06000007</td>\n",
       "      <td>362744</td>\n",
       "      <td>POLYGON ((-2.49407 53.48009, -2.49396 53.48004...</td>\n",
       "    </tr>\n",
       "  </tbody>\n",
       "</table>\n",
       "</div>"
      ],
      "text/plain": [
       "     shape_area               lad21nm     long  objectid        lat   bng_n  \\\n",
       "0  9.371703e+07            Hartlepool -1.27018         1  54.676140  531474   \n",
       "1  2.450695e+08  Redcar and Cleveland -1.00608         3  54.567520  519597   \n",
       "2  2.049330e+08      Stockton-on-Tees -1.30664         4  54.556911  518183   \n",
       "3  1.974778e+08            Darlington -1.56835         5  54.535339  515648   \n",
       "4  1.806280e+08            Warrington -2.56167         7  53.391628  388456   \n",
       "\n",
       "      shape_leng    lad21cd   bng_e  \\\n",
       "0   70995.722933  E06000001  447160   \n",
       "1   96704.031525  E06000003  464361   \n",
       "2  123408.788096  E06000004  444940   \n",
       "3  107203.152334  E06000005  428029   \n",
       "4  114690.686846  E06000007  362744   \n",
       "\n",
       "                                            geometry  \n",
       "0  MULTIPOLYGON (((-1.22469 54.62610, -1.22491 54...  \n",
       "1  MULTIPOLYGON (((-1.20097 54.57762, -1.20029 54...  \n",
       "2  MULTIPOLYGON (((-1.27209 54.55336, -1.27211 54...  \n",
       "3  POLYGON ((-1.63767 54.61713, -1.63766 54.61669...  \n",
       "4  POLYGON ((-2.49407 53.48009, -2.49396 53.48004...  "
      ]
     },
     "execution_count": 89,
     "metadata": {},
     "output_type": "execute_result"
    }
   ],
   "source": [
    "df_LA = gpd.read_file(FILENAME1)\n",
    "\n",
    "df_LA.head()\n"
   ]
  },
  {
   "cell_type": "markdown",
   "metadata": {},
   "source": [
    "Grabs LA code from each file name"
   ]
  },
  {
   "cell_type": "code",
   "execution_count": 90,
   "metadata": {},
   "outputs": [],
   "source": [
    "path = \"./all-domestic-certificates\"\n",
    "data = next(os.walk(path))[1]\n",
    "\n",
    "cleared_data = list(data)\n",
    "\n",
    "fn_df = pd.DataFrame(cleared_data, columns = ['Filename'])\n",
    "\n",
    "new_df = fn_df['Filename'].str.split('-', expand = True)\n",
    "fn_df['lad21cd'] = new_df[1].values\n",
    "\n",
    "fn_df.reset_index(inplace = True, drop = True)\n"
   ]
  },
  {
   "cell_type": "markdown",
   "metadata": {},
   "source": [
    "Grabs averge energy values from csvs"
   ]
  },
  {
   "cell_type": "code",
   "execution_count": 91,
   "metadata": {},
   "outputs": [
    {
     "ename": "AttributeError",
     "evalue": "'NoneType' object has no attribute 'group'",
     "output_type": "error",
     "traceback": [
      "\u001b[0;31m---------------------------------------------------------------------------\u001b[0m",
      "\u001b[0;31mAttributeError\u001b[0m                            Traceback (most recent call last)",
      "\u001b[0;32m/var/folders/d7/r2cjzrb9605786qhgpjtfp040000gn/T/ipykernel_967/1182464541.py\u001b[0m in \u001b[0;36m<cell line: 9>\u001b[0;34m()\u001b[0m\n\u001b[1;32m     10\u001b[0m     \u001b[0;32mif\u001b[0m \u001b[0mre\u001b[0m\u001b[0;34m.\u001b[0m\u001b[0mmatch\u001b[0m\u001b[0;34m(\u001b[0m\u001b[0;34m\".*certificates.*certificates.*csv$\"\u001b[0m\u001b[0;34m,\u001b[0m\u001b[0mfile\u001b[0m\u001b[0;34m)\u001b[0m\u001b[0;34m:\u001b[0m\u001b[0;34m\u001b[0m\u001b[0;34m\u001b[0m\u001b[0m\n\u001b[1;32m     11\u001b[0m         \u001b[0meffic\u001b[0m \u001b[0;34m=\u001b[0m \u001b[0mpd\u001b[0m\u001b[0;34m.\u001b[0m\u001b[0mread_csv\u001b[0m\u001b[0;34m(\u001b[0m\u001b[0mfile\u001b[0m\u001b[0;34m,\u001b[0m \u001b[0mlow_memory\u001b[0m \u001b[0;34m=\u001b[0m \u001b[0;32mFalse\u001b[0m\u001b[0;34m)\u001b[0m\u001b[0;34m\u001b[0m\u001b[0;34m\u001b[0m\u001b[0m\n\u001b[0;32m---> 12\u001b[0;31m         \u001b[0mfilename\u001b[0m \u001b[0;34m=\u001b[0m \u001b[0mre\u001b[0m\u001b[0;34m.\u001b[0m\u001b[0msearch\u001b[0m\u001b[0;34m(\u001b[0m\u001b[0;34m\"domestic-[E|W].*\\/\"\u001b[0m\u001b[0;34m,\u001b[0m \u001b[0mfile\u001b[0m\u001b[0;34m)\u001b[0m\u001b[0;34m.\u001b[0m\u001b[0mgroup\u001b[0m\u001b[0;34m(\u001b[0m\u001b[0;36m0\u001b[0m\u001b[0;34m)\u001b[0m\u001b[0;34m\u001b[0m\u001b[0;34m\u001b[0m\u001b[0m\n\u001b[0m\u001b[1;32m     13\u001b[0m         \u001b[0mfilename\u001b[0m \u001b[0;34m=\u001b[0m \u001b[0mfilename\u001b[0m\u001b[0;34m.\u001b[0m\u001b[0mrstrip\u001b[0m\u001b[0;34m(\u001b[0m\u001b[0mfilename\u001b[0m\u001b[0;34m[\u001b[0m\u001b[0;34m-\u001b[0m\u001b[0;36m1\u001b[0m\u001b[0;34m]\u001b[0m\u001b[0;34m)\u001b[0m\u001b[0;34m\u001b[0m\u001b[0;34m\u001b[0m\u001b[0m\n\u001b[1;32m     14\u001b[0m         \u001b[0mmean\u001b[0m \u001b[0;34m=\u001b[0m \u001b[0meffic\u001b[0m\u001b[0;34m[\u001b[0m\u001b[0;34m'CURRENT_ENERGY_EFFICIENCY'\u001b[0m\u001b[0;34m]\u001b[0m\u001b[0;34m.\u001b[0m\u001b[0mmean\u001b[0m\u001b[0;34m(\u001b[0m\u001b[0;34m)\u001b[0m\u001b[0;34m\u001b[0m\u001b[0;34m\u001b[0m\u001b[0m\n",
      "\u001b[0;31mAttributeError\u001b[0m: 'NoneType' object has no attribute 'group'"
     ]
    }
   ],
   "source": [
    "csvs = []\n",
    "for root, dirs, files in os.walk(path):\n",
    "    for name in files:\n",
    "        csvs.append(os.path.join(root, name))\n",
    "\n",
    "mean_df = pd.DataFrame(columns = ['Filename', 'efficiency'])\n",
    "index = 0\n",
    "\n",
    "for file in csvs:\n",
    "    if re.match(\".*certificates.*certificates.*csv$\",file):\n",
    "        effic = pd.read_csv(file, low_memory = False)\n",
    "        filename = re.search(\"domestic-[E|W].*\\/\", file).group(0)\n",
    "        filename = filename.rstrip(filename[-1])\n",
    "        mean = effic['CURRENT_ENERGY_EFFICIENCY'].mean()\n",
    "        mean_df.loc[index] = [filename, mean]\n",
    "        index = index + 1\n",
    "\n"
   ]
  },
  {
   "cell_type": "markdown",
   "metadata": {},
   "source": [
    "Add two dataframes together"
   ]
  },
  {
   "cell_type": "code",
   "execution_count": 83,
   "metadata": {},
   "outputs": [
    {
     "data": {
      "text/html": [
       "<div>\n",
       "<style scoped>\n",
       "    .dataframe tbody tr th:only-of-type {\n",
       "        vertical-align: middle;\n",
       "    }\n",
       "\n",
       "    .dataframe tbody tr th {\n",
       "        vertical-align: top;\n",
       "    }\n",
       "\n",
       "    .dataframe thead th {\n",
       "        text-align: right;\n",
       "    }\n",
       "</style>\n",
       "<table border=\"1\" class=\"dataframe\">\n",
       "  <thead>\n",
       "    <tr style=\"text-align: right;\">\n",
       "      <th></th>\n",
       "      <th>Filename</th>\n",
       "      <th>efficiency</th>\n",
       "      <th>lad21cd</th>\n",
       "    </tr>\n",
       "  </thead>\n",
       "  <tbody>\n",
       "    <tr>\n",
       "      <th>0</th>\n",
       "      <td>domestic-E07000133-Melton</td>\n",
       "      <td>60.819662</td>\n",
       "      <td>E07000133</td>\n",
       "    </tr>\n",
       "    <tr>\n",
       "      <th>1</th>\n",
       "      <td>domestic-E07000142-West-Lindsey</td>\n",
       "      <td>62.373837</td>\n",
       "      <td>E07000142</td>\n",
       "    </tr>\n",
       "    <tr>\n",
       "      <th>2</th>\n",
       "      <td>domestic-E08000019-Sheffield</td>\n",
       "      <td>63.683964</td>\n",
       "      <td>E08000019</td>\n",
       "    </tr>\n",
       "    <tr>\n",
       "      <th>3</th>\n",
       "      <td>domestic-E09000025-Newham</td>\n",
       "      <td>67.975458</td>\n",
       "      <td>E09000025</td>\n",
       "    </tr>\n",
       "  </tbody>\n",
       "</table>\n",
       "</div>"
      ],
      "text/plain": [
       "                          Filename  efficiency    lad21cd\n",
       "0        domestic-E07000133-Melton   60.819662  E07000133\n",
       "1  domestic-E07000142-West-Lindsey   62.373837  E07000142\n",
       "2     domestic-E08000019-Sheffield   63.683964  E08000019\n",
       "3        domestic-E09000025-Newham   67.975458  E09000025"
      ]
     },
     "execution_count": 83,
     "metadata": {},
     "output_type": "execute_result"
    }
   ],
   "source": [
    "total_df = mean_df.merge(fn_df)\n",
    "\n",
    "total_df.head()"
   ]
  },
  {
   "cell_type": "markdown",
   "metadata": {},
   "source": [
    "Merge with geodata"
   ]
  },
  {
   "cell_type": "code",
   "execution_count": 84,
   "metadata": {},
   "outputs": [],
   "source": [
    "gdf = gpd.read_file(FILENAME1)\n",
    "df_energy = total_df.merge(gdf)"
   ]
  },
  {
   "cell_type": "markdown",
   "metadata": {},
   "source": [
    "Plot"
   ]
  },
  {
   "cell_type": "code",
   "execution_count": 86,
   "metadata": {},
   "outputs": [
    {
     "data": {
      "text/plain": [
       "<AxesSubplot:>"
      ]
     },
     "execution_count": 86,
     "metadata": {},
     "output_type": "execute_result"
    },
    {
     "data": {
      "image/png": "[encoded data removed]",
      "text/plain": [
       "<Figure size 1080x1080 with 1 Axes>"
      ]
     },
     "metadata": {
      "needs_background": "light"
     },
     "output_type": "display_data"
    }
   ],
   "source": [
    "gdf = gpd.GeoDataFrame(\n",
    "    df_energy, geometry= 'geometry')\n",
    "gdf.plot('efficiency', figsize=(15,15))"
   ]
  }
 ],
 "metadata": {
  "interpreter": {
   "hash": "b6210d6e8bebbeaa30bb0302a76cd15a5ab817ea28580c7e9450ff1e2a73f0ad"
  },
  "kernelspec": {
   "display_name": "Python 3.9.13 ('pyGIS')",
   "language": "python",
   "name": "python3"
  },
  "language_info": {
   "codemirror_mode": {
    "name": "ipython",
    "version": 3
   },
   "file_extension": ".py",
   "mimetype": "text/x-python",
   "name": "python",
   "nbconvert_exporter": "python",
   "pygments_lexer": "ipython3",
   "version": "3.9.13"
  },
  "orig_nbformat": 4
 },
 "nbformat": 4,
 "nbformat_minor": 2
}
