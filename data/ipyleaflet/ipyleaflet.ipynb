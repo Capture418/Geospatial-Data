{
 "cells": [
  {
   "cell_type": "markdown",
   "metadata": {},
   "source": [
    "Imports"
   ]
  },
  {
   "cell_type": "code",
   "execution_count": 2,
   "metadata": {},
   "outputs": [],
   "source": [
    "import ipyleaflet as ipy\n",
    "from ipyleaflet import *\n",
    "from random import uniform\n",
    "import pandas as pd"
   ]
  },
  {
   "cell_type": "markdown",
   "metadata": {},
   "source": [
    "ipyleaflet - Layer function means data is easily viewed and comapared\n",
    "\n",
    "            Only has mercator projection "
   ]
  },
  {
   "cell_type": "markdown",
   "metadata": {},
   "source": [
    "### Creating a map and adding a marker"
   ]
  },
  {
   "cell_type": "code",
   "execution_count": 3,
   "metadata": {},
   "outputs": [
    {
     "data": {
      "application/vnd.jupyter.widget-view+json": {
       "model_id": "29ff4fc4d0f741f093d092b3f0306835",
       "version_major": 2,
       "version_minor": 0
      },
      "text/plain": [
       "Map(center=[51.5, 0], controls=(ZoomControl(options=['position', 'zoom_in_text', 'zoom_in_title', 'zoom_out_te…"
      ]
     },
     "metadata": {},
     "output_type": "display_data"
    }
   ],
   "source": [
    "center = (51.5,0)\n",
    "map = Map(center = center, zoom=10)\n",
    "marker = Marker(location = center, draggable = True)\n",
    "\n",
    "map.add_layer(marker)\n",
    "\n",
    "display(map)"
   ]
  },
  {
   "cell_type": "markdown",
   "metadata": {},
   "source": [
    "### Changing Basemap"
   ]
  },
  {
   "cell_type": "code",
   "execution_count": 4,
   "metadata": {},
   "outputs": [
    {
     "data": {
      "application/vnd.jupyter.widget-view+json": {
       "model_id": "1761dedd6a814876a4970787f5b63fb4",
       "version_major": 2,
       "version_minor": 0
      },
      "text/plain": [
       "Map(center=[43, 7], controls=(ZoomControl(options=['position', 'zoom_in_text', 'zoom_in_title', 'zoom_out_text…"
      ]
     },
     "metadata": {},
     "output_type": "display_data"
    }
   ],
   "source": [
    "map2 = Map(\n",
    "    basemap = basemap_to_tiles(basemaps.NASAGIBS.ModisTerraTrueColorCR, \"2017-04-08\"),\n",
    "    center = (43,7),\n",
    "    zoom = 5\n",
    ")\n",
    "\n",
    "#Mont Blanc\n",
    "\n",
    "map2.add_layer(Marker(location = (45.832119,6.865575)))\n",
    "\n",
    "map2"
   ]
  },
  {
   "cell_type": "markdown",
   "metadata": {},
   "source": [
    "### Saving a map into a html file"
   ]
  },
  {
   "cell_type": "code",
   "execution_count": 5,
   "metadata": {},
   "outputs": [
    {
     "data": {
      "application/vnd.jupyter.widget-view+json": {
       "model_id": "d8029b557a324ef3bf43e0274a468825",
       "version_major": 2,
       "version_minor": 0
      },
      "text/plain": [
       "Map(center=[35, 138], controls=(ZoomControl(options=['position', 'zoom_in_text', 'zoom_in_title', 'zoom_out_te…"
      ]
     },
     "metadata": {},
     "output_type": "display_data"
    }
   ],
   "source": [
    "htmlmap = Map(\n",
    "    basemap = basemap_to_tiles(basemaps.NASAGIBS.ModisTerraTrueColorCR, \"2017-06-14\"),\n",
    "    center = (35,138),\n",
    "    zoom = 6\n",
    ")\n",
    "\n",
    "#Fuji\n",
    "\n",
    "htmlmap.add_layer(Marker(location = (35.363602,138.726379)))\n",
    "\n",
    "htmlmap.save('fujimap.html',title='Fuji Map')\n",
    "\n",
    "htmlmap\n"
   ]
  },
  {
   "cell_type": "markdown",
   "metadata": {},
   "source": [
    "### Basemap Experimentation"
   ]
  },
  {
   "cell_type": "markdown",
   "metadata": {},
   "source": [
    "https://ipyleaflet.readthedocs.io/en/latest/map_and_basemaps/basemaps.html"
   ]
  },
  {
   "cell_type": "code",
   "execution_count": 17,
   "metadata": {},
   "outputs": [
    {
     "data": {
      "application/vnd.jupyter.widget-view+json": {
       "model_id": "ea4b8cc49bda4cecb0645ae216838117",
       "version_major": 2,
       "version_minor": 0
      },
      "text/plain": [
       "Map(center=[18, 77], controls=(ZoomControl(options=['position', 'zoom_in_text', 'zoom_in_title', 'zoom_out_tex…"
      ]
     },
     "metadata": {},
     "output_type": "display_data"
    }
   ],
   "source": [
    "center = [18,77]\n",
    "zoom = 4\n",
    "\n",
    "#Map(basemap = basemaps.OpenStreetMap.Mapnik, center=center, zoom=zoom)\n",
    "\n",
    "#Map(basemap=basemaps.Gaode.Satellite, center=center, zoom=zoom)\n",
    "\n",
    "Map(basemap=basemaps.OpenTopoMap, center=center, zoom=zoom)\n"
   ]
  },
  {
   "cell_type": "markdown",
   "metadata": {},
   "source": [
    "### Random Heatmapping"
   ]
  },
  {
   "cell_type": "code",
   "execution_count": 7,
   "metadata": {},
   "outputs": [
    {
     "data": {
      "application/vnd.jupyter.widget-view+json": {
       "model_id": "a62fb4df430d41078da3aea2671e0cc1",
       "version_major": 2,
       "version_minor": 0
      },
      "text/plain": [
       "Map(center=[20, 40], controls=(ZoomControl(options=['position', 'zoom_in_text', 'zoom_in_title', 'zoom_out_tex…"
      ]
     },
     "metadata": {},
     "output_type": "display_data"
    }
   ],
   "source": [
    "world = Map(center = (20,40), zoom = 2)\n",
    "\n",
    "heatmap = Heatmap(locations = [[uniform(-80,80), uniform(-180,180), uniform(200,600)] for i in range(1000)], radius = 40)\n",
    "\n",
    "world.add_layer(heatmap)\n",
    "\n",
    "world\n"
   ]
  },
  {
   "cell_type": "markdown",
   "metadata": {},
   "source": [
    "### Polylines - Railways"
   ]
  },
  {
   "cell_type": "code",
   "execution_count": 16,
   "metadata": {},
   "outputs": [
    {
     "data": {
      "application/vnd.jupyter.widget-view+json": {
       "model_id": "228d2fd1ee284fb2891ffc5b8d33e54a",
       "version_major": 2,
       "version_minor": 0
      },
      "text/plain": [
       "Map(center=[50, 80], controls=(ZoomControl(options=['position', 'zoom_in_text', 'zoom_in_title', 'zoom_out_tex…"
      ]
     },
     "metadata": {},
     "output_type": "display_data"
    }
   ],
   "source": [
    "basemp  = basemap_to_tiles(basemaps.Esri.WorldImagery)\n",
    "basemp.base = True\n",
    "basemp.name = 'Topo Layer'\n",
    "\n",
    "transsiberian = Polyline(\n",
    "    locations = [\n",
    "        [55.7558, 37.6173], #Moscow\n",
    "        [56.3269, 44.0059], #Nizhny Novgorod\n",
    "        [55.7879, 49.1233], #Kazan\n",
    "        [56.8431, 60.6454], #Yekaterinburg\n",
    "        [54.9833, 82.8964], #Novosibirsk\n",
    "        [52.2855, 104.2890],#Irkutsk\n",
    "        [52.0515, 113.4712],#Chita\n",
    "        [48.4814, 135.0721],#Khabarovsk\n",
    "        [43.1332, 131.9113]],#Vladivostok    \n",
    "    color = \"#ff0000\" , \n",
    "    fill = False \n",
    ")\n",
    "\n",
    "paris_to_moscow = Polyline(\n",
    "    locations = [\n",
    "        [55.7558, 37.6173],#Moscow\n",
    "        [53.9006,27.5590],#Minsk\n",
    "        [52.2297,21.0122],#Warsaw\n",
    "        [52.5200,13.4050],#Berlin\n",
    "        [48.8566,2.3522]#Paris \n",
    "        ],\n",
    "    color = \"#00FF00\",\n",
    "    fill = False    \n",
    ")\n",
    "\n",
    "ru_map = Map(center = (50,80), zoom = 3, layers = [basemp])\n",
    "\n",
    "legend = LegendControl({\"Trans Siberian Railway\":\"#ff0000\", \"Paris - Moscow\":\"#00FF00\" }, name = \"Legend\", position = \"bottomright\")\n",
    "ru_map.add_control(legend)\n",
    "ru_map.add_layer(paris_to_moscow)\n",
    "ru_map.add_layer(transsiberian)\n",
    "\n",
    "ru_map.save('railway.html',title='Railways Map')\n",
    "ru_map"
   ]
  },
  {
   "cell_type": "code",
   "execution_count": null,
   "metadata": {},
   "outputs": [],
   "source": []
  }
 ],
 "metadata": {
  "interpreter": {
   "hash": "b6210d6e8bebbeaa30bb0302a76cd15a5ab817ea28580c7e9450ff1e2a73f0ad"
  },
  "kernelspec": {
   "display_name": "Python 3.9.13 ('pyGIS')",
   "language": "python",
   "name": "python3"
  },
  "language_info": {
   "codemirror_mode": {
    "name": "ipython",
    "version": 3
   },
   "file_extension": ".py",
   "mimetype": "text/x-python",
   "name": "python",
   "nbconvert_exporter": "python",
   "pygments_lexer": "ipython3",
   "version": "3.9.13"
  },
  "orig_nbformat": 4
 },
 "nbformat": 4,
 "nbformat_minor": 2
}
